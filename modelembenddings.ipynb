{
  "nbformat": 4,
  "nbformat_minor": 0,
  "metadata": {
    "colab": {
      "provenance": [],
      "authorship_tag": "ABX9TyOGbBFGR+W+jJUWnDljHjhY",
      "include_colab_link": true
    },
    "kernelspec": {
      "name": "python3",
      "display_name": "Python 3"
    },
    "language_info": {
      "name": "python"
    }
  },
  "cells": [
    {
      "cell_type": "markdown",
      "metadata": {
        "id": "view-in-github",
        "colab_type": "text"
      },
      "source": [
        "<a href=\"https://colab.research.google.com/github/Blandskron/modelembeddings/blob/main/modelembenddings.ipynb\" target=\"_parent\"><img src=\"https://colab.research.google.com/assets/colab-badge.svg\" alt=\"Open In Colab\"/></a>"
      ]
    },
    {
      "cell_type": "code",
      "execution_count": 1,
      "metadata": {
        "colab": {
          "base_uri": "https://localhost:8080/"
        },
        "id": "xDT2iSxjPp7I",
        "outputId": "2b3522b2-986d-47d3-d86b-7d4d327cd1fc"
      },
      "outputs": [
        {
          "output_type": "stream",
          "name": "stdout",
          "text": [
            "Requirement already satisfied: gensim in /usr/local/lib/python3.10/dist-packages (4.3.2)\n",
            "Requirement already satisfied: numpy>=1.18.5 in /usr/local/lib/python3.10/dist-packages (from gensim) (1.23.5)\n",
            "Requirement already satisfied: scipy>=1.7.0 in /usr/local/lib/python3.10/dist-packages (from gensim) (1.11.3)\n",
            "Requirement already satisfied: smart-open>=1.8.1 in /usr/local/lib/python3.10/dist-packages (from gensim) (6.4.0)\n"
          ]
        }
      ],
      "source": [
        "!pip install gensim"
      ]
    },
    {
      "cell_type": "code",
      "source": [
        "# Importar las bibliotecas necesarias\n",
        "import gensim.downloader as api\n",
        "\n",
        "# Cargar el modelo pre-entrenado de Word2Vec\n",
        "model = api.load(\"word2vec-google-news-300\")\n",
        "\n",
        "# Encontrar palabras similares a una palabra dada\n",
        "similar_words = model.most_similar(\"king\", topn=5)\n",
        "\n",
        "# Imprimir las palabras similares y sus similitudes\n",
        "for word, score in similar_words:\n",
        "    print(f\"{word}: {score}\")\n"
      ],
      "metadata": {
        "colab": {
          "base_uri": "https://localhost:8080/"
        },
        "id": "jqJFc_86Pxwk",
        "outputId": "7ef6be13-1c11-41cf-a23f-00554661bb29"
      },
      "execution_count": 3,
      "outputs": [
        {
          "output_type": "stream",
          "name": "stdout",
          "text": [
            "[==================================================] 100.0% 1662.8/1662.8MB downloaded\n",
            "kings: 0.7138045430183411\n",
            "queen: 0.6510956883430481\n",
            "monarch: 0.6413194537162781\n",
            "crown_prince: 0.6204220056533813\n",
            "prince: 0.6159993410110474\n"
          ]
        }
      ]
    }
  ]
}